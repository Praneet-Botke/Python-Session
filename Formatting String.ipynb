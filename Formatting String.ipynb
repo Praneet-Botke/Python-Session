{
 "cells": [
  {
   "cell_type": "code",
   "execution_count": 3,
   "id": "6e860ea8",
   "metadata": {},
   "outputs": [
    {
     "name": "stdout",
     "output_type": "stream",
     "text": [
      "My name is Praneet\n"
     ]
    }
   ],
   "source": [
    "print('My name is {}'.format(\"Praneet\"))"
   ]
  },
  {
   "cell_type": "code",
   "execution_count": 4,
   "id": "92b6f353",
   "metadata": {},
   "outputs": [
    {
     "name": "stdout",
     "output_type": "stream",
     "text": [
      "My name is Praneet\n"
     ]
    }
   ],
   "source": [
    "print('My name is {p}'.format(p='Praneet'))"
   ]
  },
  {
   "cell_type": "code",
   "execution_count": 8,
   "id": "d706aff6",
   "metadata": {},
   "outputs": [
    {
     "name": "stdout",
     "output_type": "stream",
     "text": [
      "My name is Praneet and I'm 21 years old.\n"
     ]
    }
   ],
   "source": [
    "print(\"My name is {1} and I'm {0} years old.\".format(\"21\",\"Praneet\"))"
   ]
  },
  {
   "cell_type": "code",
   "execution_count": 10,
   "id": "3ff195f2",
   "metadata": {},
   "outputs": [],
   "source": [
    "name = 'Praneet'"
   ]
  },
  {
   "cell_type": "code",
   "execution_count": 11,
   "id": "2dbedb54",
   "metadata": {},
   "outputs": [],
   "source": [
    "age = 21"
   ]
  },
  {
   "cell_type": "code",
   "execution_count": 12,
   "id": "dbdb542c",
   "metadata": {},
   "outputs": [
    {
     "name": "stdout",
     "output_type": "stream",
     "text": [
      "My name is Praneet and I'm 21 years old\n"
     ]
    }
   ],
   "source": [
    "print(f\"My name is {name} and I'm {age} years old\")"
   ]
  },
  {
   "cell_type": "code",
   "execution_count": 13,
   "id": "b2d012a7",
   "metadata": {},
   "outputs": [],
   "source": [
    "calculate = 5000/6000"
   ]
  },
  {
   "cell_type": "code",
   "execution_count": 23,
   "id": "ba85a7cc",
   "metadata": {},
   "outputs": [
    {
     "data": {
      "text/plain": [
       "0.8333333333333334"
      ]
     },
     "execution_count": 23,
     "metadata": {},
     "output_type": "execute_result"
    }
   ],
   "source": [
    "calculate "
   ]
  },
  {
   "cell_type": "code",
   "execution_count": 25,
   "id": "e0adec99",
   "metadata": {},
   "outputs": [
    {
     "name": "stdout",
     "output_type": "stream",
     "text": [
      "Calculate is 0.8333.\n"
     ]
    }
   ],
   "source": [
    "print(\"Calculate is {c:1.4f}.\".format(c=calculate))"
   ]
  },
  {
   "cell_type": "code",
   "execution_count": 17,
   "id": "e3d9be7e",
   "metadata": {},
   "outputs": [
    {
     "data": {
      "text/plain": [
       "0.8333333333333334"
      ]
     },
     "execution_count": 17,
     "metadata": {},
     "output_type": "execute_result"
    }
   ],
   "source": [
    "calculate"
   ]
  },
  {
   "cell_type": "code",
   "execution_count": null,
   "id": "d5c2ff2c",
   "metadata": {},
   "outputs": [],
   "source": []
  }
 ],
 "metadata": {
  "kernelspec": {
   "display_name": "Python 3 (ipykernel)",
   "language": "python",
   "name": "python3"
  },
  "language_info": {
   "codemirror_mode": {
    "name": "ipython",
    "version": 3
   },
   "file_extension": ".py",
   "mimetype": "text/x-python",
   "name": "python",
   "nbconvert_exporter": "python",
   "pygments_lexer": "ipython3",
   "version": "3.9.7"
  }
 },
 "nbformat": 4,
 "nbformat_minor": 5
}
