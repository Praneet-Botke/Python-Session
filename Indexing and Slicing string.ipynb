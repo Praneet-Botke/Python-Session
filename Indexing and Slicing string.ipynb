{
 "cells": [
  {
   "cell_type": "code",
   "execution_count": 2,
   "id": "7a172aef",
   "metadata": {},
   "outputs": [],
   "source": [
    "my_name = \"Praneet Botke\""
   ]
  },
  {
   "cell_type": "code",
   "execution_count": 3,
   "id": "59fad146",
   "metadata": {},
   "outputs": [
    {
     "data": {
      "text/plain": [
       "'Praneet Botke'"
      ]
     },
     "execution_count": 3,
     "metadata": {},
     "output_type": "execute_result"
    }
   ],
   "source": [
    "my_name\n"
   ]
  },
  {
   "cell_type": "markdown",
   "id": "cc99e37f",
   "metadata": {},
   "source": [
    "INDEXING"
   ]
  },
  {
   "cell_type": "code",
   "execution_count": 4,
   "id": "322bb999",
   "metadata": {},
   "outputs": [
    {
     "data": {
      "text/plain": [
       "'n'"
      ]
     },
     "execution_count": 4,
     "metadata": {},
     "output_type": "execute_result"
    }
   ],
   "source": [
    "my_name[3]"
   ]
  },
  {
   "cell_type": "code",
   "execution_count": 5,
   "id": "06e87b95",
   "metadata": {},
   "outputs": [
    {
     "data": {
      "text/plain": [
       "'t'"
      ]
     },
     "execution_count": 5,
     "metadata": {},
     "output_type": "execute_result"
    }
   ],
   "source": [
    "my_name[-3]"
   ]
  },
  {
   "cell_type": "code",
   "execution_count": 6,
   "id": "5a605df9",
   "metadata": {},
   "outputs": [
    {
     "data": {
      "text/plain": [
       "'k'"
      ]
     },
     "execution_count": 6,
     "metadata": {},
     "output_type": "execute_result"
    }
   ],
   "source": [
    "my_name[-2]"
   ]
  },
  {
   "cell_type": "code",
   "execution_count": 7,
   "id": "735985be",
   "metadata": {},
   "outputs": [
    {
     "data": {
      "text/plain": [
       "'B'"
      ]
     },
     "execution_count": 7,
     "metadata": {},
     "output_type": "execute_result"
    }
   ],
   "source": [
    "my_name[8]"
   ]
  },
  {
   "cell_type": "code",
   "execution_count": 9,
   "id": "6b1196f6",
   "metadata": {},
   "outputs": [
    {
     "data": {
      "text/plain": [
       "'Praneet Botke'"
      ]
     },
     "execution_count": 9,
     "metadata": {},
     "output_type": "execute_result"
    }
   ],
   "source": [
    "my_name"
   ]
  },
  {
   "cell_type": "markdown",
   "id": "91fd7f39",
   "metadata": {},
   "source": [
    "SLICING"
   ]
  },
  {
   "cell_type": "code",
   "execution_count": 8,
   "id": "5439baae",
   "metadata": {},
   "outputs": [
    {
     "data": {
      "text/plain": [
       "'raneet Botke'"
      ]
     },
     "execution_count": 8,
     "metadata": {},
     "output_type": "execute_result"
    }
   ],
   "source": [
    "my_name[1:]"
   ]
  },
  {
   "cell_type": "markdown",
   "id": "6b4b75c4",
   "metadata": {},
   "source": [
    "REVERISNG STRING "
   ]
  },
  {
   "cell_type": "markdown",
   "id": "cbf49612",
   "metadata": {},
   "source": [
    "my_name[::-1]"
   ]
  },
  {
   "cell_type": "code",
   "execution_count": 11,
   "id": "38e3f658",
   "metadata": {},
   "outputs": [
    {
     "data": {
      "text/plain": [
       "'Praneet Botke'"
      ]
     },
     "execution_count": 11,
     "metadata": {},
     "output_type": "execute_result"
    }
   ],
   "source": [
    "my_name[::]"
   ]
  },
  {
   "cell_type": "code",
   "execution_count": 10,
   "id": "5d3cdc2d",
   "metadata": {},
   "outputs": [
    {
     "data": {
      "text/plain": [
       "'Pranee'"
      ]
     },
     "execution_count": 10,
     "metadata": {},
     "output_type": "execute_result"
    }
   ],
   "source": [
    "my_name[:6]"
   ]
  },
  {
   "cell_type": "code",
   "execution_count": 11,
   "id": "ec833d7f",
   "metadata": {},
   "outputs": [
    {
     "data": {
      "text/plain": [
       "'raneet Bot'"
      ]
     },
     "execution_count": 11,
     "metadata": {},
     "output_type": "execute_result"
    }
   ],
   "source": [
    "my_name[1:11]"
   ]
  },
  {
   "cell_type": "code",
   "execution_count": 12,
   "id": "cc647aa5",
   "metadata": {},
   "outputs": [
    {
     "data": {
      "text/plain": [
       "'raneet Bot'"
      ]
     },
     "execution_count": 12,
     "metadata": {},
     "output_type": "execute_result"
    }
   ],
   "source": [
    "my_name[1:-2]"
   ]
  },
  {
   "cell_type": "code",
   "execution_count": 13,
   "id": "4f14b53c",
   "metadata": {},
   "outputs": [
    {
     "data": {
      "text/plain": [
       "'PaetBte'"
      ]
     },
     "execution_count": 13,
     "metadata": {},
     "output_type": "execute_result"
    }
   ],
   "source": [
    "my_name[::2]"
   ]
  },
  {
   "cell_type": "code",
   "execution_count": 14,
   "id": "d355772a",
   "metadata": {},
   "outputs": [
    {
     "data": {
      "text/plain": [
       "'rne '"
      ]
     },
     "execution_count": 14,
     "metadata": {},
     "output_type": "execute_result"
    }
   ],
   "source": [
    "my_name[1:8:2]"
   ]
  },
  {
   "cell_type": "code",
   "execution_count": null,
   "id": "2491a476",
   "metadata": {},
   "outputs": [],
   "source": []
  }
 ],
 "metadata": {
  "kernelspec": {
   "display_name": "Python 3 (ipykernel)",
   "language": "python",
   "name": "python3"
  },
  "language_info": {
   "codemirror_mode": {
    "name": "ipython",
    "version": 3
   },
   "file_extension": ".py",
   "mimetype": "text/x-python",
   "name": "python",
   "nbconvert_exporter": "python",
   "pygments_lexer": "ipython3",
   "version": "3.9.7"
  }
 },
 "nbformat": 4,
 "nbformat_minor": 5
}
