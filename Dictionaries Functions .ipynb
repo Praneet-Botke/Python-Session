{
 "cells": [
  {
   "cell_type": "code",
   "execution_count": 1,
   "id": "ecb60d21",
   "metadata": {},
   "outputs": [],
   "source": [
    "dictionaries = {'A1':'Hi', 'A2':2000}"
   ]
  },
  {
   "cell_type": "code",
   "execution_count": 2,
   "id": "cc96f16b",
   "metadata": {},
   "outputs": [
    {
     "ename": "NameError",
     "evalue": "name 'dictionaires' is not defined",
     "output_type": "error",
     "traceback": [
      "\u001b[1;31m---------------------------------------------------------------------------\u001b[0m",
      "\u001b[1;31mNameError\u001b[0m                                 Traceback (most recent call last)",
      "\u001b[1;32m~\\AppData\\Local\\Temp/ipykernel_17432/1043124803.py\u001b[0m in \u001b[0;36m<module>\u001b[1;34m\u001b[0m\n\u001b[1;32m----> 1\u001b[1;33m \u001b[0mdictionaires\u001b[0m\u001b[1;33m\u001b[0m\u001b[1;33m\u001b[0m\u001b[0m\n\u001b[0m",
      "\u001b[1;31mNameError\u001b[0m: name 'dictionaires' is not defined"
     ]
    }
   ],
   "source": [
    "dictionaires"
   ]
  },
  {
   "cell_type": "code",
   "execution_count": 3,
   "id": "d1c16023",
   "metadata": {},
   "outputs": [
    {
     "data": {
      "text/plain": [
       "{'A1': 'Hi', 'A2': 2000}"
      ]
     },
     "execution_count": 3,
     "metadata": {},
     "output_type": "execute_result"
    }
   ],
   "source": [
    "dictionaries"
   ]
  },
  {
   "cell_type": "code",
   "execution_count": 4,
   "id": "d8c4dd68",
   "metadata": {},
   "outputs": [
    {
     "ename": "TypeError",
     "evalue": "'dict' object is not callable",
     "output_type": "error",
     "traceback": [
      "\u001b[1;31m---------------------------------------------------------------------------\u001b[0m",
      "\u001b[1;31mTypeError\u001b[0m                                 Traceback (most recent call last)",
      "\u001b[1;32m~\\AppData\\Local\\Temp/ipykernel_17432/2384534506.py\u001b[0m in \u001b[0;36m<module>\u001b[1;34m\u001b[0m\n\u001b[1;32m----> 1\u001b[1;33m \u001b[0mdictionaries\u001b[0m\u001b[1;33m(\u001b[0m\u001b[1;34m'A2'\u001b[0m\u001b[1;33m)\u001b[0m\u001b[1;33m\u001b[0m\u001b[1;33m\u001b[0m\u001b[0m\n\u001b[0m",
      "\u001b[1;31mTypeError\u001b[0m: 'dict' object is not callable"
     ]
    }
   ],
   "source": [
    "dictionaries('A2')"
   ]
  },
  {
   "cell_type": "code",
   "execution_count": 5,
   "id": "4037a48b",
   "metadata": {},
   "outputs": [
    {
     "data": {
      "text/plain": [
       "2000"
      ]
     },
     "execution_count": 5,
     "metadata": {},
     "output_type": "execute_result"
    }
   ],
   "source": [
    "dictionaries['A2']"
   ]
  },
  {
   "cell_type": "code",
   "execution_count": 6,
   "id": "9e13fe9e",
   "metadata": {},
   "outputs": [],
   "source": [
    "new_dictionaries = {'B1': 2000, 'B2': ['Hi','Bro'], 'B3': {'C1':[2000, 'Friend']}}"
   ]
  },
  {
   "cell_type": "code",
   "execution_count": 7,
   "id": "8b00cc43",
   "metadata": {},
   "outputs": [
    {
     "data": {
      "text/plain": [
       "['Hi', 'Bro']"
      ]
     },
     "execution_count": 7,
     "metadata": {},
     "output_type": "execute_result"
    }
   ],
   "source": [
    "new_dictionaries['B2']"
   ]
  },
  {
   "cell_type": "code",
   "execution_count": 8,
   "id": "0585c244",
   "metadata": {},
   "outputs": [
    {
     "data": {
      "text/plain": [
       "2000"
      ]
     },
     "execution_count": 8,
     "metadata": {},
     "output_type": "execute_result"
    }
   ],
   "source": [
    "new_dictionaries['B3']['C1'][0]"
   ]
  },
  {
   "cell_type": "code",
   "execution_count": 9,
   "id": "7d270ac8",
   "metadata": {},
   "outputs": [
    {
     "ename": "NameError",
     "evalue": "name 'B2' is not defined",
     "output_type": "error",
     "traceback": [
      "\u001b[1;31m---------------------------------------------------------------------------\u001b[0m",
      "\u001b[1;31mNameError\u001b[0m                                 Traceback (most recent call last)",
      "\u001b[1;32m~\\AppData\\Local\\Temp/ipykernel_17432/331259510.py\u001b[0m in \u001b[0;36m<module>\u001b[1;34m\u001b[0m\n\u001b[1;32m----> 1\u001b[1;33m \u001b[0mnew_dictionaries\u001b[0m\u001b[1;33m[\u001b[0m\u001b[0mB2\u001b[0m\u001b[1;33m]\u001b[0m\u001b[1;33m[\u001b[0m\u001b[1;36m0\u001b[0m\u001b[1;33m]\u001b[0m \u001b[1;33m=\u001b[0m \u001b[1;34m'Friend'\u001b[0m\u001b[1;33m\u001b[0m\u001b[1;33m\u001b[0m\u001b[0m\n\u001b[0m",
      "\u001b[1;31mNameError\u001b[0m: name 'B2' is not defined"
     ]
    }
   ],
   "source": [
    "new_dictionaries[B2][0] = 'Friend'"
   ]
  },
  {
   "cell_type": "code",
   "execution_count": 10,
   "id": "31eb5d9e",
   "metadata": {},
   "outputs": [],
   "source": [
    "new_dictionaries['B2'][0] = 'Friend'"
   ]
  },
  {
   "cell_type": "code",
   "execution_count": 11,
   "id": "90305a6e",
   "metadata": {},
   "outputs": [
    {
     "data": {
      "text/plain": [
       "['Friend', 'Bro']"
      ]
     },
     "execution_count": 11,
     "metadata": {},
     "output_type": "execute_result"
    }
   ],
   "source": [
    "new_dictionaries['B2']"
   ]
  },
  {
   "cell_type": "code",
   "execution_count": 12,
   "id": "20df4ce9",
   "metadata": {},
   "outputs": [],
   "source": [
    "new_dictionaries['B4'] = 'hi'"
   ]
  },
  {
   "cell_type": "code",
   "execution_count": 13,
   "id": "57cfde8a",
   "metadata": {},
   "outputs": [
    {
     "data": {
      "text/plain": [
       "{'B1': 2000,\n",
       " 'B2': ['Friend', 'Bro'],\n",
       " 'B3': {'C1': [2000, 'Friend']},\n",
       " 'B4': 'hi'}"
      ]
     },
     "execution_count": 13,
     "metadata": {},
     "output_type": "execute_result"
    }
   ],
   "source": [
    "new_dictionaries"
   ]
  },
  {
   "cell_type": "code",
   "execution_count": 14,
   "id": "ef6c9740",
   "metadata": {},
   "outputs": [
    {
     "data": {
      "text/plain": [
       "'HI'"
      ]
     },
     "execution_count": 14,
     "metadata": {},
     "output_type": "execute_result"
    }
   ],
   "source": [
    "new_dictionaries['B4'].upper()"
   ]
  },
  {
   "cell_type": "code",
   "execution_count": 15,
   "id": "cf047e1f",
   "metadata": {},
   "outputs": [
    {
     "data": {
      "text/plain": [
       "dict_items([('B1', 2000), ('B2', ['Friend', 'Bro']), ('B3', {'C1': [2000, 'Friend']}), ('B4', 'hi')])"
      ]
     },
     "execution_count": 15,
     "metadata": {},
     "output_type": "execute_result"
    }
   ],
   "source": [
    "new_dictionaries.items()"
   ]
  },
  {
   "cell_type": "code",
   "execution_count": null,
   "id": "67b4eb70",
   "metadata": {},
   "outputs": [],
   "source": []
  }
 ],
 "metadata": {
  "kernelspec": {
   "display_name": "Python 3 (ipykernel)",
   "language": "python",
   "name": "python3"
  },
  "language_info": {
   "codemirror_mode": {
    "name": "ipython",
    "version": 3
   },
   "file_extension": ".py",
   "mimetype": "text/x-python",
   "name": "python",
   "nbconvert_exporter": "python",
   "pygments_lexer": "ipython3",
   "version": "3.9.7"
  }
 },
 "nbformat": 4,
 "nbformat_minor": 5
}
