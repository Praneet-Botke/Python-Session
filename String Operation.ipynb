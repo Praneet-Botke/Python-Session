{
 "cells": [
  {
   "cell_type": "code",
   "execution_count": 1,
   "id": "099c5b94",
   "metadata": {},
   "outputs": [],
   "source": [
    "name = 'Player'"
   ]
  },
  {
   "cell_type": "code",
   "execution_count": 2,
   "id": "d9a5a595",
   "metadata": {},
   "outputs": [
    {
     "data": {
      "text/plain": [
       "'Player'"
      ]
     },
     "execution_count": 2,
     "metadata": {},
     "output_type": "execute_result"
    }
   ],
   "source": [
    "name"
   ]
  },
  {
   "cell_type": "code",
   "execution_count": 3,
   "id": "f4f9e550",
   "metadata": {},
   "outputs": [],
   "source": [
    "name = name[1:]"
   ]
  },
  {
   "cell_type": "code",
   "execution_count": 4,
   "id": "ddcb78e9",
   "metadata": {},
   "outputs": [
    {
     "data": {
      "text/plain": [
       "'layer'"
      ]
     },
     "execution_count": 4,
     "metadata": {},
     "output_type": "execute_result"
    }
   ],
   "source": [
    "name"
   ]
  },
  {
   "cell_type": "markdown",
   "id": "d5ec1e47",
   "metadata": {},
   "source": [
    "CONCATENATION\n"
   ]
  },
  {
   "cell_type": "code",
   "execution_count": 5,
   "id": "ee3cba66",
   "metadata": {},
   "outputs": [
    {
     "data": {
      "text/plain": [
       "'Slayer'"
      ]
     },
     "execution_count": 5,
     "metadata": {},
     "output_type": "execute_result"
    }
   ],
   "source": [
    "\"S\" + name"
   ]
  },
  {
   "cell_type": "code",
   "execution_count": 6,
   "id": "30374450",
   "metadata": {},
   "outputs": [
    {
     "data": {
      "text/plain": [
       "'layer'"
      ]
     },
     "execution_count": 6,
     "metadata": {},
     "output_type": "execute_result"
    }
   ],
   "source": [
    "name "
   ]
  },
  {
   "cell_type": "code",
   "execution_count": 7,
   "id": "0d5abd09",
   "metadata": {},
   "outputs": [],
   "source": [
    "name = 'S' + name"
   ]
  },
  {
   "cell_type": "code",
   "execution_count": 8,
   "id": "8d14d741",
   "metadata": {},
   "outputs": [
    {
     "data": {
      "text/plain": [
       "'Slayer'"
      ]
     },
     "execution_count": 8,
     "metadata": {},
     "output_type": "execute_result"
    }
   ],
   "source": [
    "name"
   ]
  },
  {
   "cell_type": "code",
   "execution_count": 9,
   "id": "a6df236d",
   "metadata": {},
   "outputs": [],
   "source": [
    "name_middle = name[4]"
   ]
  },
  {
   "cell_type": "code",
   "execution_count": 10,
   "id": "49293216",
   "metadata": {},
   "outputs": [],
   "source": [
    "before = name[:4]"
   ]
  },
  {
   "cell_type": "code",
   "execution_count": 11,
   "id": "da8d23ad",
   "metadata": {},
   "outputs": [],
   "source": [
    "after = name[5:]"
   ]
  },
  {
   "cell_type": "code",
   "execution_count": 12,
   "id": "6b5fbf7b",
   "metadata": {},
   "outputs": [],
   "source": [
    "new_name= before + name_middle*4 + after"
   ]
  },
  {
   "cell_type": "code",
   "execution_count": 13,
   "id": "a010b9fc",
   "metadata": {},
   "outputs": [
    {
     "data": {
      "text/plain": [
       "'Slayeeeer'"
      ]
     },
     "execution_count": 13,
     "metadata": {},
     "output_type": "execute_result"
    }
   ],
   "source": [
    "new_name"
   ]
  },
  {
   "cell_type": "code",
   "execution_count": 14,
   "id": "74c34d29",
   "metadata": {},
   "outputs": [
    {
     "data": {
      "text/plain": [
       "'SLAYEEEER'"
      ]
     },
     "execution_count": 14,
     "metadata": {},
     "output_type": "execute_result"
    }
   ],
   "source": [
    "new_name.upper()"
   ]
  },
  {
   "cell_type": "code",
   "execution_count": 15,
   "id": "ceae4fed",
   "metadata": {},
   "outputs": [
    {
     "data": {
      "text/plain": [
       "'slayeeeer'"
      ]
     },
     "execution_count": 15,
     "metadata": {},
     "output_type": "execute_result"
    }
   ],
   "source": [
    "new_name.lower()"
   ]
  },
  {
   "cell_type": "code",
   "execution_count": null,
   "id": "ffa92e6e",
   "metadata": {},
   "outputs": [],
   "source": []
  }
 ],
 "metadata": {
  "kernelspec": {
   "display_name": "Python 3 (ipykernel)",
   "language": "python",
   "name": "python3"
  },
  "language_info": {
   "codemirror_mode": {
    "name": "ipython",
    "version": 3
   },
   "file_extension": ".py",
   "mimetype": "text/x-python",
   "name": "python",
   "nbconvert_exporter": "python",
   "pygments_lexer": "ipython3",
   "version": "3.9.7"
  }
 },
 "nbformat": 4,
 "nbformat_minor": 5
}
